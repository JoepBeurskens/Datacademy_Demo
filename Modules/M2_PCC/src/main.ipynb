{
 "cells": [
  {
   "cell_type": "markdown",
   "metadata": {},
   "source": [
    "<h1> Data Science Bootcamp Module 2 - Python Crash Course </h1>\n",
    "<hr>\n",
    "\n",
    "<p>\n",
    "This module is included to get you up to speed with programming in Python. <br>\n",
    "The following subjects will be discussed throughout this module:\n",
    "<ul>\n",
    "    <li>Basic Operations</li>\n",
    "    <li>Iterations and Functions</li>\n",
    "    <li>Pre-defined Functions</li>\n",
    "    <li>Import Functions</li>\n",
    "</ul>\n",
    "Completion of the exercises in this notebook will enable you to follow the rest of the Datacademy Bootcamp. <br>\n",
    "<br>\n",
    "All exercises can be tested in real-time using the <code>reviewFunction()</code> class that is imported in the first code cell. <br>\n",
    "You do not have to understand the programming behind this, you simply have to insert your answer into the variable related to the question. <br>\n",
    "We decided to give you direct feedback, as we suspect this to be the best way to make your first steps into programming with Python. <br>\n",
    "Later modules will only test code after completing all exercises, as in this way more complicated tests can be executed. <br>\n",
    "<br>\n",
    "For now, good luck with the exercises below and above all have fun coding! \n",
    "</p>"
   ]
  },
  {
   "cell_type": "markdown",
   "metadata": {},
   "source": [
    "<hr>\n",
    "<h3>A. Import libraries and Review Function. </h3>\n",
    "<p>\n",
    "Normally, when starting a Python project, you will import all the libraries that you need. <br>\n",
    "Libraries are pre-written code bases that you can then integrate within your own code, which we will discuss and use more in later modules. <br>\n",
    "For now we already pre-written some code for you which enables you to review your answers, named <code>ReviewFunction</code>. <br>\n",
    "To execute the Review Function you simple execute the code: <code>review.check_answer(answer=<i>[YOUR ANSWER HERE]</i>, exercise=<i>[YOUR EXERCISE HERE]</i>)</code>. <br>\n",
    "<br>\n",
    "Answering the questions can be done by inserting either your answer or a piece of code into the variable related to the question. <br>\n",
    "All answering variables are constructed as follows: <code>Q_[CHAPTER][QUESTION NUMBER]</code>.\n",
    "We already pre-written te call to the evaluation class, so after inserting your answer you simply run the cell. <br>\n",
    "This can be done by either clicking the play button on the left or pressing <b>\"Shift\" + \"Enter\"</b>.\n",
    "</p>"
   ]
  },
  {
   "cell_type": "code",
   "execution_count": 1,
   "metadata": {},
   "outputs": [
    {
     "name": "stdout",
     "output_type": "stream",
     "text": [
      "c:\\Users\\joepb\\OneDrive\\Documenten\\Github\\datacademy_demo\n"
     ]
    }
   ],
   "source": [
    "%cd ../../..\n",
    "from Modules.M2_PCC.libs.reviewfunction import ReviewFunction\n",
    "review = ReviewFunction()"
   ]
  },
  {
   "cell_type": "markdown",
   "metadata": {},
   "source": [
    "<hr>\n",
    "<h3>B. Basic operations. </h3>\n",
    "\n",
    "<p>\n",
    "The basic operations will test your knowledge of Terms, Comparators and Execution. <br>\n",
    "These operations form the basis of most Python code, so it is a good place to start! <br>\n",
    "The subcategories of operations comprising this chapter are:\n",
    "<ul>\n",
    "    <li> <b>Terms</b> - Variables, expressions and types. </li>\n",
    "    <li> <b>Comparators</b> - Comparators, and boolean expressions. </li>\n",
    "    <li> <b>Execution</b> - Sequencing of statements. </li>\n",
    "</ul>\n",
    "If you carefully read through the <b>theoretical part</b>, you will complete the following exercises without any problems. <br>\n",
    "Otherwise, if you get stuck on certain parts, feel free to look back at the theory in Easy-LMS. <br>\n",
    "<br>\n",
    "Please answer the following questions.\n",
    "<ol>\n",
    "    <li> Find the length of a Boeing 747-100 in meters. </li>\n",
    "    <li> Find the height of an iPhone 12 in millimeters. </li>\n",
    "    <li> Retrieve the boolean using the comparator whether the length of the Boeing 747-100 is greater than the height of 480 times the height of an iPhone 12. </li>\n",
    "    <li> Retrieve the boolean using the comparator whether the height of an iPhone 11 (150.9 mm) is not equal to the height of the iPhone 12. </li>\n",
    "    <li> Create an IF statement that sets Q_B5 to \"Yes\" if the height of 500 Iphone 12's fit in the length of a boeing 747-100, else set Q_B5 to \"No\".</li>\n",
    "</ol>\n",
    "<i>Tip: Use the variables defined in 1. and 2. to find the answers for the other questions (3., 4, and 5.). </i> <br>\n",
    "<i>Tip: Replace the <code>...</code> for your own code. </i> \n",
    "</p>"
   ]
  },
  {
   "cell_type": "code",
   "execution_count": null,
   "metadata": {},
   "outputs": [],
   "source": [
    "Q_B1 = ...\n",
    "\n",
    "review.check_answer(answer=Q_B1, exercise=\"B1\")"
   ]
  },
  {
   "cell_type": "code",
   "execution_count": null,
   "metadata": {},
   "outputs": [],
   "source": [
    "Q_B2 = ...\n",
    "\n",
    "review.check_answer(answer=Q_B2, exercise=\"B2\")"
   ]
  },
  {
   "cell_type": "code",
   "execution_count": null,
   "metadata": {},
   "outputs": [],
   "source": [
    "Q_B3 = ...\n",
    "\n",
    "review.check_answer(answer=Q_B3, exercise=\"B3\")"
   ]
  },
  {
   "cell_type": "code",
   "execution_count": null,
   "metadata": {},
   "outputs": [],
   "source": [
    "Q_B4 = ...\n",
    "\n",
    "review.check_answer(answer=Q_B4, exercise=\"B4\")"
   ]
  },
  {
   "cell_type": "code",
   "execution_count": null,
   "metadata": {},
   "outputs": [],
   "source": [
    "if ...:\n",
    "    Q_B5 = ...\n",
    "else:\n",
    "    Q_B5 = ...\n",
    "\n",
    "review.check_answer(answer=Q_B5, exercise=\"B5\")"
   ]
  },
  {
   "cell_type": "markdown",
   "metadata": {},
   "source": [
    "<hr>\n",
    "<h3>C. Iterations and Functions. </h3>\n",
    "\n",
    "<p>\n",
    "The power of programming lies in automation of time-consuming, strenuous tasks. <br>\n",
    "To do this iterations and functions are used, often forming the backbone of the code you will create. <br>\n",
    "The topics discussed in this chapter are listed below:\n",
    "<ul>\n",
    "    <li> <b>Iteration</b> - Usage of either a While Loop or a For Loop. </li>\n",
    "    <li> <b>Function</b> - Organized, reusable code with or without a return statement. </li>\n",
    "</ul>\n",
    "An iterator in Python is simply put an object that can be repeatedly run for a set number of times. <br>\n",
    "The number of executions can either be defined in a sequence, as is done in a For Loop, or based on a condition, as is done for a While Loop. <br>\n",
    "A function, on the other hand, is a block of code which only runs when it is called. <br>\n",
    "It is possible to pass data into a function, known as parameters, and the function can return values using a return statement.<br>\n",
    "<br>\n",
    "\n",
    "The following exercises will help you gain some hands-on experience in creating iterations and functions, first separately but then also combined. <br>\n",
    "We will build upon the knowledge gained about the <b>basic operations</b>, which you gained in the previous chapter. <br>\n",
    "Please create the code to execute the following actions:\n",
    "<ol>\n",
    "    <li> Create a program that prints every number up to and including 33 that can be devided by 3 using a while loop.</li>\n",
    "</ol>\n",
    "<i>Tip: Remember the modulus (<code>%</code>) operator</i>\n",
    "<ol start=\"2\">\n",
    "    <li> The temperature in Fahrenheit equals the temperature in Celsius * 1.8 + 32. Print the temperatures in Celsius from -5 to 45 (inclusive) in steps of 5 degrees and the corresponding temperatures in Fahrenheit. </li>\n",
    "</ol>\n",
    "<i>Tips: Remember the <code>range()</code> function; You can print multiple variables by seperating them with a comma (<code>print(var1, var2)</code>)</i>\n",
    "<ol start=\"3\">\n",
    "    <li> Given <code>a = 10</code> and <code>i = 5</code> print <code>a</code> as long as <code>i</code> is less or equal to <code>a</code>. And after each iteration we decrease the value of <code>a</code> by 1. This to stop the while loop from executing infinite times because <code>i</code> will always remain smaller than <code>a</code>. </li>\n",
    "    <li> Given <code>lst = [5, 10, 20]</code>, create a function that prints each value multiplied by <code>1.5</code>. </li>\n",
    "</ol>\n",
    "</p>"
   ]
  },
  {
   "cell_type": "code",
   "execution_count": null,
   "metadata": {},
   "outputs": [],
   "source": [
    "# Starting variables number and Q_C1 are fixed (DO NOT REMOVE OR MODIFY THEM)\n",
    "number = 1\n",
    "Q_C1 = []\n",
    "\n",
    "while ...:\n",
    "\n",
    "    ...\n",
    "\n",
    "    print(can_be_divided_by_3)\n",
    "\n",
    "    # DO NOT REMOVE THIS LINE OF CODE\n",
    "    Q_C1.append(can_be_divided_by_3)\n",
    "\n",
    "review.check_answer(answer=Q_C1, exercise=\"C1\")"
   ]
  },
  {
   "cell_type": "code",
   "execution_count": null,
   "metadata": {},
   "outputs": [],
   "source": [
    "# Starting variable Q_C2 is fixed (DO NOT REMOVE OR MODIFY THEM)\n",
    "Q_C2 = []\n",
    "\n",
    "for ... in ...:\n",
    "\n",
    "    ...\n",
    "\n",
    "    print(celsius, fahrenheit)\n",
    "\n",
    "    # DO NOT REMOVE THIS LINE OF CODE\n",
    "    Q_C2.append([celsius, fahrenheit])\n",
    "\n",
    "review.check_answer(answer=Q_C2, exercise=\"C2\")"
   ]
  },
  {
   "cell_type": "code",
   "execution_count": null,
   "metadata": {},
   "outputs": [],
   "source": [
    "def while_function(a, i):\n",
    "    values = []\n",
    "\n",
    "    while ...:\n",
    "\n",
    "        ...\n",
    "\n",
    "    # DO NOT REMOVE THE LINES OF CODE BELOW\n",
    "        values.append(a)\n",
    "    \n",
    "    return values\n",
    "\n",
    "Q_C3 = while_function(10, 5)\n",
    "\n",
    "review.check_answer(answer=Q_C3, exercise=\"C3\")"
   ]
  },
  {
   "cell_type": "code",
   "execution_count": null,
   "metadata": {},
   "outputs": [],
   "source": [
    "def list_function(lst):\n",
    "    values = []\n",
    "    \n",
    "    for ... in ...:\n",
    "        \n",
    "        ...\n",
    "\n",
    "        # DO NOT REMOVE THE LINES OF CODE BELOW\n",
    "        values.append(multiplied_value)\n",
    "    \n",
    "    return values\n",
    "\n",
    "Q_C4 = list_function([5, 10, 20])\n",
    "\n",
    "review.check_answer(answer=Q_C4, exercise=\"C4\")"
   ]
  },
  {
   "cell_type": "markdown",
   "metadata": {},
   "source": [
    "<hr>\n",
    "<h3>D. Pre-defined Functions. </h3>\n",
    "<p>\n",
    "Here, we're are working with all different kinds of pre-defined methods in Python for strings, lists, and dictionaries. <br>\n",
    "The discussed methods are listed below:\n",
    "<ul>\n",
    "    <li> <b>String methods</b> - slicing, replacing, splitting, and endswith.</li>\n",
    "    <li> <b>List methods</b> - appending and removing.</li>\n",
    "    <li> <b>Dictionarie methods</b> - keys, values, and slicing.</li>\n",
    "</ul>\n",
    "All string methods returns new values. They do not change the original string. <br>\n",
    "Python does not have built-in support for Arrays, but Python Lists can be used instead. <br>\n",
    "Dictionary is a collection which is ordered, changeable and do not allow duplicates.\n",
    "</p>"
   ]
  },
  {
   "cell_type": "markdown",
   "metadata": {},
   "source": [
    "<p>\n",
    "In these exercises you're going to use all the methods together with your previous learned skills. <br>\n",
    "We're are also going to use function annotations to make it more obvious what to put into the function (variable type) and what we expect to be the output (returning type) of your function.<br>\n",
    "Again, after replacement of <code>#YOUR ANSWER</code>, simply run the cel by clicking in the cel and pressing \"<b>Shift + Enter</b>\". \n",
    "<ol>\n",
    "    <li> Write a Python function called <code>string_change_char(str1)</code> to get a string from a given string where all occurrences of its first char have been changed to '&', except the first char itself. </li>\n",
    "    <li> Write a Python function called <code>words_endswith(str2)</code> to get the number of times a word in the string ends with a 's'.</li>\n",
    "    <li> Write a Python function <code>remove_dups(ls)</code> that removes duplicates from a list. It should not change the order of the list. </li>\n",
    "    <li> Write a Python function <code>powers(n)</code> that generates a dictionary whereby the keys are a number <code>i</code> (between 1 and n) and the respective values are <code>i^3</code> (i.e. the dictionary entries are of the form <code>i: i^3</code> )  </li>\n",
    "</ol>\n",
    "<i>Tip: The key of a dictionary doesn't have to be a string value, it can also be an integer.</i>\n",
    "<ol start=\"3\">\n",
    "\n",
    "</ol>\n",
    "</p>"
   ]
  },
  {
   "cell_type": "code",
   "execution_count": null,
   "metadata": {},
   "outputs": [],
   "source": [
    "def string_change_char(str1: str) -> str:  \n",
    "    \n",
    "    ...\n",
    "\n",
    "    return ...\n",
    "\n",
    "# All statements below should be True\n",
    "print(string_change_char('t') == 't')\n",
    "print(string_change_char('testnet') == 'tes&ne&')"
   ]
  },
  {
   "cell_type": "code",
   "execution_count": null,
   "metadata": {},
   "outputs": [],
   "source": [
    "def words_endswith(str2: str) -> int:\n",
    "   \n",
    "    ...\n",
    "\n",
    "    return ...\n",
    "\n",
    "# All statements below should be True\n",
    "print(words_endswith('This is the string!') == 2)\n",
    "print(words_endswith('Nothing ending with that letter.') == 0)"
   ]
  },
  {
   "cell_type": "code",
   "execution_count": null,
   "metadata": {},
   "outputs": [],
   "source": [
    "def remove_dups(ls: list) -> list:\n",
    "    \n",
    "    ...\n",
    "\n",
    "    return ...\n",
    "\n",
    "# The following statement should be True \n",
    "print(remove_dups([10,20,30,20,10,50,60,40,80,50,40]) == [10,20,30,50,60,40,80])  "
   ]
  },
  {
   "cell_type": "code",
   "execution_count": null,
   "metadata": {},
   "outputs": [],
   "source": [
    "def powers(n: int) -> dict:\n",
    "    \n",
    "    ...\n",
    "\n",
    "    return ...\n",
    "\n",
    "# The following statement should be True \n",
    "print(powers(5) == {1: 1, 2: 8, 3: 27, 4: 64, 5: 125})"
   ]
  },
  {
   "cell_type": "markdown",
   "metadata": {},
   "source": [
    "<hr>\n",
    "<h3>E. Import Functions. </h3>\n",
    "<p>\n",
    "The libraries we're going to use are not standard in your Python toolbox. These functions need to be imported. <br>\n",
    "There are many importable Python libraries including NumPy, Pandas, and Matplotlib. <br>\n",
    "In the course, we've discussed these import libraries. Here, you need to use some of the operators:\n",
    "<ul>\n",
    "    <li> <b>NumPy</b> - creating, slicing, and modificating.</li>\n",
    "    <li> <b>Pandas</b> - creating, slicing, renaming, and dropping. </li>\n",
    "    <li> <b>Matplotlib</b> - scatter, limit, titles, legend.</li>\n",
    "</ul>\n",
    "</p>"
   ]
  },
  {
   "cell_type": "markdown",
   "metadata": {},
   "source": [
    "<p>\n",
    "In these exercises you're going to use all sorts of import functions. <br>\n",
    "Again, after replacement of <code>#YOUR ANSWER</code>, simply run the cel by clicking in the cel and pressing \"<b>Shift + Enter</b>\". \n",
    "<ol>\n",
    "    <li> Create a numpy array called ages having the structure and content of the following table: </li>\n",
    "</ol>\n",
    "&emsp; &emsp; &emsp; 7 &emsp; 3 &emsp; 2 <br>\n",
    "&emsp; &emsp; &emsp; 8 &emsp; 5 &emsp; 2 <br>\n",
    "&emsp; &emsp; &emsp; 1 &emsp; 9 &emsp; 12 <br>\n",
    "<ol start=\"2\">\n",
    "    <li> Find the highest age in the second column. Print the result (which is 9). </li>\n",
    "    <li> A year later everyone is a year older: add 1 to all values and print the result. The result should be saved as a new_ages numpy array and printed:  </li>\n",
    "</ol>\n",
    "&emsp; &emsp; &emsp; 8 &emsp; 4 &emsp; 3 <br>\n",
    "&emsp; &emsp; &emsp; 9 &emsp; 6 &emsp; 3 <br>\n",
    "&emsp; &emsp; &emsp; 2 &emsp; 10 &emsp; 13 <br>\n",
    "<br>\n",
    "We already stored some data into a DataFrame for you. The DataFrame can be called by <code>review.pandas_dataframe</code>. \n",
    "<ol start=\"4\">\n",
    "    <li> Create a new variable called <code>df_157</code> with a DataFrame with the columns <code>['column_1', 'column_5','column_7']</code>. </li>\n",
    "    <li> Create a new variable called <code>df_2</code> from <code>df_157</code> where you rename 'column_5' to 'column_2' and remove 'column_7' from the DataFrame. Printing <code>df_12.head(2) will give you:</code></li>\n",
    "</ol>\n",
    "&emsp; &emsp; &emsp;  &emsp; <b>column_1</b> &emsp; <b>column_2</b>  <br>\n",
    "&emsp; &emsp; &emsp; 0 &emsp; 0.050680 &emsp; -0.034821 <br>\n",
    "&emsp; &emsp; &emsp; 1 &emsp; -0.044642 &emsp; -0.019163 <br>\n",
    "<ol start=\"6\">\n",
    "    <li> Plot each column as a [scatter plot](https://matplotlib.org/stable/api/_as_gen/matplotlib.pyplot.scatter.html) in one plot, so <code>y1 = column_1</code> and <code>y2 = column_2</code>. The x-values for both the plots can be accessed by <code>x = review.data.target</code>. Extra additions to your plot should be: Adjust the range of y axis to -0.25 to 0.25, plot the column_1 as a green dots, add a legend on the upper right corner for each line (column_2 for red dots and column_1 for green dots), give each axis a title called 'x-axis' and 'y-axis', and finish your plot with a title 'My first plot of column 1 and 2'.\n",
    "</ol>\n",
    "<i>Tip: Try replacing <code>plt.plot</code> for <code>plt.scatter</code>. And make sure you select a Pandas series for the y-values.</i>\n",
    "</p>"
   ]
  },
  {
   "cell_type": "code",
   "execution_count": null,
   "metadata": {},
   "outputs": [],
   "source": [
    "import numpy as np\n",
    "import pandas as pd\n",
    "import matplotlib.pyplot as plt"
   ]
  },
  {
   "cell_type": "code",
   "execution_count": null,
   "metadata": {},
   "outputs": [],
   "source": [
    "# 1) Create ages numpy \n",
    "ages = ..."
   ]
  },
  {
   "cell_type": "code",
   "execution_count": null,
   "metadata": {},
   "outputs": [],
   "source": [
    "# 2a) Select second column\n",
    "second_column = ...\n",
    "\n",
    "print(\"Second is\", second_column)\n",
    "\n",
    "# 2b) Find highest age\n",
    "maximum_age = ...\n",
    "\n",
    "print(\"Maximum age is\", maximum_age)"
   ]
  },
  {
   "cell_type": "code",
   "execution_count": null,
   "metadata": {},
   "outputs": [],
   "source": [
    "# 3) Increment by 1\n",
    "new_ages = ...\n",
    "\n",
    "print(\"New ages are:\\n\", new_ages)"
   ]
  },
  {
   "cell_type": "code",
   "execution_count": null,
   "metadata": {},
   "outputs": [],
   "source": [
    "# Pre-created DataFrame (DO NOT REMOVE THE LINE BELOW)\n",
    "df = review.pandas_data\n",
    "\n",
    "# 4) Create the new df with column 'column_1', 'column_5', 'column_7'\n",
    "df_157 = ..."
   ]
  },
  {
   "cell_type": "code",
   "execution_count": null,
   "metadata": {},
   "outputs": [],
   "source": [
    "# 5a) Rename the column\n",
    "df_12 = ...\n",
    "\n",
    "# 5a) Remove the column\n",
    "df_12 = ...\n",
    "\n",
    "# 5c) Print first 2 rows\n",
    "...\n",
    "\n",
    "# To check: 5c) should look something like this (uncomment this code)\n",
    "# review.check_answer(answer=\"\", exercise=\"E5\")"
   ]
  },
  {
   "cell_type": "code",
   "execution_count": null,
   "metadata": {},
   "outputs": [],
   "source": [
    "# 6) Plotting\n",
    "X = review.data.target\n",
    "\n",
    "...\n",
    "\n",
    "\n",
    "# To check: 6) should look something like this (uncomment this code)\n",
    "# review.check_answer(answer=df_12, exercise=\"E6\")"
   ]
  },
  {
   "cell_type": "markdown",
   "metadata": {},
   "source": [
    "<h1> Congratulations!! </h1>\n",
    "<p>\n",
    "    You completed all modules and tackled the basics of Python! <br> \n",
    "    <br>\n",
    "    Throughout the Notebook you received immediate feedback on your code, which allowed you to evaluate your own skills. <br>\n",
    "    If you passed all tests, feel free to continue to our next module, <b>Module 3: Structured Query Language (SQL)</b>.\n",
    "</p>"
   ]
  }
 ],
 "metadata": {
  "kernelspec": {
   "display_name": "datacademy",
   "language": "python",
   "name": "python3"
  },
  "language_info": {
   "codemirror_mode": {
    "name": "ipython",
    "version": 3
   },
   "file_extension": ".py",
   "mimetype": "text/x-python",
   "name": "python",
   "nbconvert_exporter": "python",
   "pygments_lexer": "ipython3",
   "version": "3.10.4"
  },
  "orig_nbformat": 4,
  "vscode": {
   "interpreter": {
    "hash": "ce974f4137297fe4d9ccc928ab90ae69657967622fcbea099abef02ad3684313"
   }
  }
 },
 "nbformat": 4,
 "nbformat_minor": 2
}
